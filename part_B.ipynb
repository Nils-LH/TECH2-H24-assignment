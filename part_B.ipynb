{
 "cells": [
  {
   "cell_type": "markdown",
   "metadata": {},
   "source": [
    "# TECH 2 mandatory assignment - Part B\n",
    "\n",
    "Write your solution for Part B in this notebook."
   ]
  },
  {
   "cell_type": "raw",
   "metadata": {},
   "source": [
    "Extracting the data.csv and appending the data to lists"
   ]
  },
  {
   "cell_type": "code",
   "execution_count": 17,
   "metadata": {},
   "outputs": [],
   "source": [
    "# Opening the file\n",
    "f = open(\"data.csv\", \"r\")\n",
    "l1 = []\n",
    "l2 = []\n",
    "l3 = []\n",
    "    \n",
    "    # Reading line for line\n",
    "for x in f:\n",
    "        split_values = x.strip().split(\",\")  # Removing spaces and commas \n",
    "        \n",
    "        # Checking if the first value is not empty and appending the float to a list\n",
    "        if split_values[0] != '':\n",
    "            l1.append(float(split_values[0]))\n",
    "        \n",
    "        # Checking if the first value is not empty and appending the float to a list\n",
    "        if  split_values[1] != '':\n",
    "            l2.append(float(split_values[1]))\n",
    "        \n",
    "        # Checking if the first value is not empty and appending the float to a list\n",
    "        if split_values[2] != '':\n",
    "            l3.append(float(split_values[2]))\n",
    "\n",
    "f.close()"
   ]
  },
  {
   "cell_type": "raw",
   "metadata": {},
   "source": [
    "Initializing the functions"
   ]
  },
  {
   "cell_type": "code",
   "execution_count": 9,
   "metadata": {},
   "outputs": [],
   "source": [
    "import numpy as np"
   ]
  },
  {
   "cell_type": "code",
   "execution_count": 6,
   "metadata": {},
   "outputs": [],
   "source": [
    "def std_loops(x):\n",
    "\n",
    "    total = 0 # Initialize sum of numbers\n",
    "    count = 0 # Initialize count of numbers\n",
    "    \n",
    "  # First loop to calculate the sum of the list and the length\n",
    "    for i in x: \n",
    "        total += i\n",
    "        count += 1\n",
    "    \n",
    "    # Compute the mean (average) of the list\n",
    "    mean = total/count\n",
    "    \n",
    "    variance = 0 # Initializing variance variable\n",
    "   \n",
    "    # Second loop to calculate the variance by summing squared differences from the mean\n",
    "    for i in x:\n",
    "        variance += (i-mean)**2 \n",
    "    \n",
    "    sd = (variance/count)**0.5 # Calculating the standard deviation\n",
    "    \n",
    "    return sd"
   ]
  },
  {
   "cell_type": "code",
   "execution_count": null,
   "metadata": {},
   "outputs": [],
   "source": []
  },
  {
   "cell_type": "code",
   "execution_count": 1,
   "metadata": {},
   "outputs": [],
   "source": [
    "def std_builtin(x):\n",
    "\n",
    "    # Compute the mean using sum() and len()\n",
    "    mean = sum(x)/len(x)\n",
    "    \n",
    "    variance = 0    # Initializing the variance variable\n",
    "    \n",
    "    # Loop to calculate variance by summing squared differences from the mean\n",
    "    for i in x :\n",
    "        \n",
    "        variance += (i-mean)**2 \n",
    "\n",
    "    # Calculate the standard deviation by taking the square root of the variance\n",
    "    sd = (variance/len(x))**0.5 \n",
    "    \n",
    "    return sd"
   ]
  },
  {
   "cell_type": "code",
   "execution_count": 12,
   "metadata": {},
   "outputs": [
    {
     "name": "stdout",
     "output_type": "stream",
     "text": [
      "CPU times: user 42 μs, sys: 9 μs, total: 51 μs\n",
      "Wall time: 53.2 μs\n",
      "CPU times: user 23 μs, sys: 1e+03 ns, total: 24 μs\n",
      "Wall time: 26 μs\n",
      "CPU times: user 335 μs, sys: 461 μs, total: 796 μs\n",
      "Wall time: 804 μs\n"
     ]
    },
    {
     "data": {
      "text/plain": [
       "0.28237210973536014"
      ]
     },
     "execution_count": 12,
     "metadata": {},
     "output_type": "execute_result"
    }
   ],
   "source": [
    "%time std_loops(l1) \n",
    "%time std_builtin(l1)\n",
    "%time np.std(l1)"
   ]
  },
  {
   "cell_type": "code",
   "execution_count": 18,
   "metadata": {},
   "outputs": [
    {
     "name": "stdout",
     "output_type": "stream",
     "text": [
      "CPU times: user 153 μs, sys: 18 μs, total: 171 μs\n",
      "Wall time: 172 μs\n",
      "CPU times: user 110 μs, sys: 105 μs, total: 215 μs\n",
      "Wall time: 110 μs\n",
      "CPU times: user 429 μs, sys: 2.33 ms, total: 2.76 ms\n",
      "Wall time: 7.22 ms\n"
     ]
    },
    {
     "data": {
      "text/plain": [
       "0.28467443283850596"
      ]
     },
     "execution_count": 18,
     "metadata": {},
     "output_type": "execute_result"
    }
   ],
   "source": [
    "%time std_loops(l2) \n",
    "%time std_builtin(l2)\n",
    "%time np.std(l2)"
   ]
  },
  {
   "cell_type": "code",
   "execution_count": 14,
   "metadata": {},
   "outputs": [
    {
     "name": "stdout",
     "output_type": "stream",
     "text": [
      "CPU times: user 3.4 ms, sys: 1.4 ms, total: 4.8 ms\n",
      "Wall time: 5.2 ms\n",
      "CPU times: user 1.69 ms, sys: 16 μs, total: 1.71 ms\n",
      "Wall time: 1.8 ms\n",
      "CPU times: user 1.13 ms, sys: 1.31 ms, total: 2.44 ms\n",
      "Wall time: 15.7 ms\n"
     ]
    },
    {
     "data": {
      "text/plain": [
       "0.2854045269476156"
      ]
     },
     "execution_count": 14,
     "metadata": {},
     "output_type": "execute_result"
    }
   ],
   "source": [
    "%time std_loops(l3) \n",
    "%time std_builtin(l3)\n",
    "%time np.std(l3)"
   ]
  }
 ],
 "metadata": {
  "kernelspec": {
   "display_name": "Python 3 (ipykernel)",
   "language": "python",
   "name": "python3"
  },
  "language_info": {
   "codemirror_mode": {
    "name": "ipython",
    "version": 3
   },
   "file_extension": ".py",
   "mimetype": "text/x-python",
   "name": "python",
   "nbconvert_exporter": "python",
   "pygments_lexer": "ipython3",
   "version": "3.12.4"
  }
 },
 "nbformat": 4,
 "nbformat_minor": 4
}
